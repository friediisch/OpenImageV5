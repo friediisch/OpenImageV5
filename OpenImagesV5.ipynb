{
 "cells": [
  {
   "cell_type": "code",
   "execution_count": 2,
   "metadata": {},
   "outputs": [
    {
     "data": {
      "text/plain": [
       "[PosixPath('data/challenge-2019-classes-description-500.csv'),\n",
       " PosixPath('data/fulltest'),\n",
       " PosixPath('data/challenge-2019-validation-detection-human-imagelabels.csv'),\n",
       " PosixPath('data/Xclassdescription.csv'),\n",
       " PosixPath('data/challenge-2019-validation-detection-bbox.csv'),\n",
       " PosixPath('data/fulltrain'),\n",
       " PosixPath('data/challenge-2019-train-detection-bbox.csv'),\n",
       " PosixPath('data/fullvalidation'),\n",
       " PosixPath('data/challenge-2019-train-detection-human-imagelabels.csv')]"
      ]
     },
     "execution_count": 2,
     "metadata": {},
     "output_type": "execute_result"
    }
   ],
   "source": [
    "from fastai.vision import *\n",
    "from pathlib import Path\n",
    "import pickle\n",
    "import sys\n",
    "from operator import attrgetter\n",
    "PATH = Path('data')\n",
    "list(PATH.iterdir())"
   ]
  },
  {
   "cell_type": "code",
   "execution_count": 6,
   "metadata": {},
   "outputs": [],
   "source": [
    "class_names = pd.read_csv(PATH/'challenge-2019-classes-description-500.csv', header=None, names=[\"LabelName\", \"Class\"])"
   ]
  },
  {
   "cell_type": "markdown",
   "metadata": {},
   "source": [
    "#### Labels, bounding boxes for training"
   ]
  },
  {
   "cell_type": "code",
   "execution_count": 7,
   "metadata": {},
   "outputs": [
    {
     "name": "stdout",
     "output_type": "stream",
     "text": [
      "1743042\n"
     ]
    }
   ],
   "source": [
    "il_train = ImageList.from_folder(PATH/\"fulltrain/\", convert_mode='L') # contains 1743042 images\n",
    "print(len(il_train))\n",
    "bboxes_train = pd.read_csv(PATH/'challenge-2019-train-detection-bbox.csv')\n",
    "labels_train = bboxes_train.merge(class_names, on=\"LabelName\")\n",
    "labels_train.loc[:, \"ImageID\"] = labels_train.loc[:, \"ImageID\"].astype('category')"
   ]
  },
  {
   "cell_type": "code",
   "execution_count": 8,
   "metadata": {},
   "outputs": [],
   "source": [
    "#ids = labels_train.ImageID.unique()\n",
    "ids_train = list(map(attrgetter('stem'), list(il_train.items)))\n",
    "df_dict = labels_train.to_dict(\"list\") \n",
    "x = {image_id : {\"bboxes\" : [], \"Classes\" : []} for image_id in ids_train}\n",
    "[x.update({image_id: {\"bboxes\" : x[image_id][\"bboxes\"] + [[xmin, xmax, ymin, ymax]], \"Classes\" : x[image_id][\"Classes\"] + [c]}} ) \n",
    "     for c, image_id, xmin, xmax, ymin, ymax in zip(df_dict[\"Class\"], df_dict[\"ImageID\"], df_dict[\"XMin\"], df_dict[\"XMax\"], df_dict[\"YMin\"], df_dict[\"YMax\"])]\n",
    "img2bbox_train = {image_id : [x[image_id][\"bboxes\"], x[image_id][\"Classes\"]] for image_id in ids_train}"
   ]
  },
  {
   "cell_type": "markdown",
   "metadata": {},
   "source": [
    "#### Labels, bounding boxes for validation"
   ]
  },
  {
   "cell_type": "code",
   "execution_count": 9,
   "metadata": {},
   "outputs": [],
   "source": [
    "il_val = ImageList.from_folder(PATH/\"fullvalidation/\", convert_mode='L') # contains 41620 images\n",
    "bboxes_val = pd.read_csv(PATH/'challenge-2019-validation-detection-bbox.csv')\n",
    "labels_val = bboxes_val.merge(class_names, on=\"LabelName\")\n",
    "labels_val.loc[:, \"ImageID\"] = labels_val.loc[:, \"ImageID\"].astype('category')"
   ]
  },
  {
   "cell_type": "code",
   "execution_count": 10,
   "metadata": {},
   "outputs": [],
   "source": [
    "#ids = labels_val.ImageID.unique()\n",
    "ids_val = list(map(attrgetter('stem'), list(il_val.items)))\n",
    "df_dict = labels_val.to_dict(\"list\") \n",
    "x = {image_id : {\"bboxes\" : [], \"Classes\" : []} for image_id in ids_val}\n",
    "[x.update({image_id: {\"bboxes\" : x[image_id][\"bboxes\"] + [[xmin, xmax, ymin, ymax]], \"Classes\" : x[image_id][\"Classes\"] + [c]}} ) \n",
    "     for c, image_id, xmin, xmax, ymin, ymax in zip(df_dict[\"Class\"], df_dict[\"ImageID\"], df_dict[\"XMin\"], df_dict[\"XMax\"], df_dict[\"YMin\"], df_dict[\"YMax\"])]\n",
    "img2bbox_val = {image_id : [x[image_id][\"bboxes\"], x[image_id][\"Classes\"]] for image_id in ids_val}"
   ]
  },
  {
   "cell_type": "code",
   "execution_count": 11,
   "metadata": {},
   "outputs": [],
   "source": [
    "img2bbox = {**img2bbox_train, **img2bbox_val}"
   ]
  },
  {
   "cell_type": "code",
   "execution_count": 12,
   "metadata": {},
   "outputs": [],
   "source": [
    "assert list(img2bbox_train.keys())==ids_train\n",
    "assert list(img2bbox_val.keys())==ids_val\n",
    "assert list(img2bbox.keys())==ids_train+ids_val"
   ]
  },
  {
   "cell_type": "code",
   "execution_count": 13,
   "metadata": {},
   "outputs": [],
   "source": [
    "get_y_func = lambda o:img2bbox[o.stem]\n",
    "#get_y_func = lambda o:print(o)"
   ]
  },
  {
   "cell_type": "code",
   "execution_count": 17,
   "metadata": {},
   "outputs": [],
   "source": [
    "def get_data(bs, size):\n",
    "    #src = ImageList.from_folder(PATH/'fulltrain', convert_mode='L')\n",
    "    #src = src.split_by_files(il_val_sub)\n",
    "    #src = ObjectItemList.from_folder(PATH/'fulltrain', convert_mode='L')\n",
    "    src = ObjectItemList.from_folder(path=PATH, convert_mode='L')\n",
    "    src = src.split_by_folder(train='fulltrain', valid='fullvalidation')\n",
    "    #src = src.split_by_files(img2bbox_val.keys())\n",
    "    src = src.label_from_func(get_y_func)\n",
    "    return src.databunch(path=PATH, bs=bs, collate_fn=bb_pad_collate)"
   ]
  },
  {
   "cell_type": "code",
   "execution_count": 18,
   "metadata": {},
   "outputs": [
    {
     "name": "stdout",
     "output_type": "stream",
     "text": [
      "You can deactivate this warning by passing `no_check=True`.\n"
     ]
    },
    {
     "name": "stderr",
     "output_type": "stream",
     "text": [
      "/home/ubuntu/anaconda3/envs/pytorch_p36/lib/python3.6/site-packages/fastai/basic_data.py:269: UserWarning: It's not possible to collate samples of your dataset together in a batch.\n",
      "  warn(message)\n"
     ]
    }
   ],
   "source": [
    "data = get_data(4, 128) "
   ]
  },
  {
   "cell_type": "code",
   "execution_count": 20,
   "metadata": {},
   "outputs": [],
   "source": [
    "with open(PATH/'databunch.pickle', 'wb') as f:\n",
    "    pickle.dump(data, f)"
   ]
  },
  {
   "cell_type": "code",
   "execution_count": 19,
   "metadata": {
    "scrolled": true
   },
   "outputs": [
    {
     "data": {
      "text/plain": [
       "ImageDataBunch;\n",
       "\n",
       "Train: LabelList (1743042 items)\n",
       "x: ObjectItemList\n",
       "Image (1, 768, 1024),Image (1, 680, 1024),Image (1, 1024, 768),Image (1, 768, 1024),Image (1, 685, 1024)\n",
       "y: ObjectCategoryList\n",
       "ImageBBox (768, 1024),ImageBBox (680, 1024),ImageBBox (1024, 768),ImageBBox (768, 1024),ImageBBox (685, 1024)\n",
       "Path: data;\n",
       "\n",
       "Valid: LabelList (41620 items)\n",
       "x: ObjectItemList\n",
       "Image (1, 768, 1024),Image (1, 768, 1024),Image (1, 765, 1024),Image (1, 842, 1024),Image (1, 768, 768)\n",
       "y: ObjectCategoryList\n",
       "ImageBBox (768, 1024),ImageBBox (768, 1024),ImageBBox (765, 1024),ImageBBox (842, 1024),ImageBBox (768, 768)\n",
       "Path: data;\n",
       "\n",
       "Test: None"
      ]
     },
     "execution_count": 19,
     "metadata": {},
     "output_type": "execute_result"
    }
   ],
   "source": [
    "data"
   ]
  },
  {
   "cell_type": "code",
   "execution_count": null,
   "metadata": {},
   "outputs": [],
   "source": []
  }
 ],
 "metadata": {
  "kernelspec": {
   "display_name": "Environment (conda_pytorch_p36)",
   "language": "python",
   "name": "conda_pytorch_p36"
  },
  "language_info": {
   "codemirror_mode": {
    "name": "ipython",
    "version": 3
   },
   "file_extension": ".py",
   "mimetype": "text/x-python",
   "name": "python",
   "nbconvert_exporter": "python",
   "pygments_lexer": "ipython3",
   "version": "3.6.5"
  }
 },
 "nbformat": 4,
 "nbformat_minor": 2
}
